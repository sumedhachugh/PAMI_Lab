{
 "cells": [
  {
   "cell_type": "code",
   "execution_count": 7,
   "metadata": {
    "scrolled": true
   },
   "outputs": [
    {
     "name": "stdout",
     "output_type": "stream",
     "text": [
      "Enter a Number9\n",
      "3.0\n"
     ]
    }
   ],
   "source": [
    "x = input(\"Enter a Number\")\n",
    "x = int(x)\n",
    "y = x**0.5\n",
    "print(y)"
   ]
  },
  {
   "cell_type": "code",
   "execution_count": null,
   "metadata": {
    "scrolled": true
   },
   "outputs": [],
   "source": [
    "#x = input(\"Enter the list\")\n",
    "x = [0, 0, 1, 1, 1, 2, 2, 3, 3, 4]\n",
    "count = 0\n",
    "j = 1\n",
    "while j < len(x)-1:\n",
    "    if x[count] == x[count + j]:\n",
    "        x.pop(count+j)\n",
    "    #count = count+1\n",
    "print(x)\n",
    "print(j)"
   ]
  },
  {
   "cell_type": "code",
   "execution_count": null,
   "metadata": {},
   "outputs": [],
   "source": [
    "x = [4, 5, 6]\n",
    "y = len(x)\n",
    "print(y)"
   ]
  },
  {
   "cell_type": "code",
   "execution_count": null,
   "metadata": {},
   "outputs": [],
   "source": [
    "#x = input(\"Enter the list\")\n",
    "x = [0, 0, 1, 1, 1, 2, 2, 3, 3, 4]\n",
    "count = 0\n",
    "j = 1\n",
    "while j < len(x)-1:\n",
    "    if x[count] == x[count + j]:\n",
    "        x.pop(count+j)\n",
    "    count = count+1\n",
    "    j = j-1\n",
    "print (x)\n",
    "print (j)"
   ]
  },
  {
   "cell_type": "code",
   "execution_count": null,
   "metadata": {},
   "outputs": [],
   "source": []
  },
  {
   "cell_type": "code",
   "execution_count": null,
   "metadata": {},
   "outputs": [],
   "source": []
  },
  {
   "cell_type": "code",
   "execution_count": null,
   "metadata": {},
   "outputs": [],
   "source": []
  }
 ],
 "metadata": {
  "kernelspec": {
   "display_name": "Python 3",
   "language": "python",
   "name": "python3"
  },
  "language_info": {
   "codemirror_mode": {
    "name": "ipython",
    "version": 3
   },
   "file_extension": ".py",
   "mimetype": "text/x-python",
   "name": "python",
   "nbconvert_exporter": "python",
   "pygments_lexer": "ipython3",
   "version": "3.7.4"
  }
 },
 "nbformat": 4,
 "nbformat_minor": 2
}
